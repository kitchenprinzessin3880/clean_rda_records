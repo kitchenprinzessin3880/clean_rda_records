{
 "cells": [
  {
   "cell_type": "code",
   "execution_count": 99,
   "metadata": {},
   "outputs": [],
   "source": [
    "from bs4 import BeautifulSoup\n",
    "from collections import Counter\n",
    "from fuzzywuzzy import fuzz\n",
    "from fuzzywuzzy import process\n",
    "from itertools import product"
   ]
  },
  {
   "cell_type": "code",
   "execution_count": 81,
   "metadata": {},
   "outputs": [],
   "source": [
    "eco_file = 'tern-eco-informatics-RIF-CS-Export.xml'\n",
    "tern_file = 'TERN-Geonetwork-RIF-CS-Export.xml'"
   ]
  },
  {
   "cell_type": "code",
   "execution_count": 82,
   "metadata": {},
   "outputs": [],
   "source": [
    "def parseXML(xmlfile):\n",
    "    data_list = []\n",
    "    with open(xmlfile, 'r') as f:\n",
    "        data = f.read()\n",
    "    Bs_data = BeautifulSoup(data, \"xml\")\n",
    "    #robjs = Bs_data.find_all('name', {'type':'primary'})\n",
    "    robjs = Bs_data.find_all('citationMetadata')\n",
    "    for r in robjs:\n",
    "        title = r.find(\"title\").string\n",
    "        data_list.append(title)\n",
    "    print('Total records found (before) - ' ,xmlfile, ' - ' ,len(data_list))\n",
    "    print([k for k,v in Counter(data_list).items() if v>1])\n",
    "    final_list = list(set(data_list))\n",
    "    print('Total records found - (after) ' ,xmlfile, ' - ' ,len(final_list))\n",
    "    return final_list"
   ]
  },
  {
   "cell_type": "code",
   "execution_count": 84,
   "metadata": {},
   "outputs": [
    {
     "name": "stdout",
     "output_type": "stream",
     "text": [
      "Total records found (before) -  tern-eco-informatics-RIF-CS-Export.xml  -  1297\n",
      "[\"Haematology of the Sleepy Lizard (Tiliqua rugosa) in Australia's cereal croplands, 2010\", 'FosSahul database', 'Australian Individual Tree Biomass Library']\n",
      "Total records found - (after)  tern-eco-informatics-RIF-CS-Export.xml  -  1294\n"
     ]
    }
   ],
   "source": [
    "eco_records = parseXML(eco_file)"
   ]
  },
  {
   "cell_type": "code",
   "execution_count": 85,
   "metadata": {},
   "outputs": [
    {
     "name": "stdout",
     "output_type": "stream",
     "text": [
      "Total records found (before) -  TERN-Geonetwork-RIF-CS-Export.xml  -  206\n",
      "['Queensland Future Climate Dataset – Downscaled CMIP5 climate projections for RCP8.5 and RCP4.5']\n",
      "Total records found - (after)  TERN-Geonetwork-RIF-CS-Export.xml  -  205\n"
     ]
    }
   ],
   "source": [
    "tern_records = parseXML(tern_file)"
   ]
  },
  {
   "cell_type": "code",
   "execution_count": 91,
   "metadata": {},
   "outputs": [
    {
     "data": {
      "text/plain": [
       "[]"
      ]
     },
     "execution_count": 91,
     "metadata": {},
     "output_type": "execute_result"
    }
   ],
   "source": [
    "list(set(eco_records) & set(tern_records))"
   ]
  },
  {
   "cell_type": "code",
   "execution_count": 92,
   "metadata": {},
   "outputs": [
    {
     "data": {
      "text/plain": [
       "[]"
      ]
     },
     "execution_count": 92,
     "metadata": {},
     "output_type": "execute_result"
    }
   ],
   "source": [
    "list(set(tern_records) & set(eco_records))"
   ]
  },
  {
   "cell_type": "code",
   "execution_count": 123,
   "metadata": {},
   "outputs": [],
   "source": [
    "def get_fuzzy_score(str1, str2):\n",
    "    #ratio = fuzz.token_sort_ratio(str1, str2)\n",
    "    #ratio = fuzz.partial_ratio(str1, str2)\n",
    "    ratio = fuzz.ratio(str1, str2)\n",
    "    return ratio"
   ]
  },
  {
   "cell_type": "code",
   "execution_count": 128,
   "metadata": {},
   "outputs": [
    {
     "name": "stdout",
     "output_type": "stream",
     "text": [
      "Australian Soil Classification Map --> Australian Population Data\n",
      "\n",
      "Nightly activity of wolf spiders from cameras and spotlighting in the Simpson Desert --> Temporal activity of wolf spiders and dunnarts in the Simpson Desert\n",
      "\n",
      "TERN AusPlots Forest Monitoring Network - Large Tree Survey - 2012-2015 --> Ausplots Forest Monitoring Network - Forest Fuel Survey, 2014-2016\n",
      "\n",
      "TERN AusPlots Forest Monitoring Network - Large Tree Survey - 2012-2015 --> TERN AusPlots Forest Monitoring Network - Forest Fuel Survey, 2014-2015\n",
      "\n"
     ]
    }
   ],
   "source": [
    "for first, second in product(tern_records, eco_records):\n",
    "    if get_fuzzy_score(first, second) > 60:\n",
    "        print(first, '-->', second)\n",
    "        print()"
   ]
  },
  {
   "cell_type": "code",
   "execution_count": null,
   "metadata": {},
   "outputs": [],
   "source": []
  },
  {
   "cell_type": "code",
   "execution_count": null,
   "metadata": {},
   "outputs": [],
   "source": []
  }
 ],
 "metadata": {
  "kernelspec": {
   "display_name": "Python 3",
   "language": "python",
   "name": "python3"
  },
  "language_info": {
   "codemirror_mode": {
    "name": "ipython",
    "version": 3
   },
   "file_extension": ".py",
   "mimetype": "text/x-python",
   "name": "python",
   "nbconvert_exporter": "python",
   "pygments_lexer": "ipython3",
   "version": "3.8.5"
  }
 },
 "nbformat": 4,
 "nbformat_minor": 4
}
